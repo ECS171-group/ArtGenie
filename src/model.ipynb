{
 "cells": [
  {
   "cell_type": "markdown",
   "id": "7f20ef00-7648-4f74-bf74-438b9c4825ed",
   "metadata": {},
   "source": [
    "# Data loading"
   ]
  },
  {
   "cell_type": "code",
   "execution_count": 3,
   "id": "838ee49b-be74-4230-9393-d7edb4579ad9",
   "metadata": {},
   "outputs": [
    {
     "name": "stdout",
     "output_type": "stream",
     "text": [
      "Loading data...\n",
      "              word countrycode                        timestamp  recognized  \\\n",
      "0            apple          US 2017-03-10 22:17:57.574660+00:00       False   \n",
      "1            apple          RU 2017-03-08 06:29:44.162820+00:00        True   \n",
      "2            apple          GB 2017-03-10 12:41:33.390630+00:00        True   \n",
      "3            apple          US 2017-03-16 18:01:54.559040+00:00        True   \n",
      "4            apple          TH 2017-03-29 14:35:17.694720+00:00        True   \n",
      "...            ...         ...                              ...         ...   \n",
      "713470  watermelon          TH 2017-03-26 18:10:18.156470+00:00        True   \n",
      "713471  watermelon          HU 2017-03-05 15:13:55.686980+00:00        True   \n",
      "713472  watermelon          GB 2017-01-28 19:15:54.067510+00:00        True   \n",
      "713473  watermelon          CA 2017-03-05 18:01:18.449470+00:00        True   \n",
      "713474  watermelon          US 2017-03-24 04:16:28.828370+00:00        True   \n",
      "\n",
      "                  key_id                                            drawing  \n",
      "0       6420579601088512  [[[255, 255], [0, 0]], [[255, 255], [0, 0]], [...  \n",
      "1       4986110117675008  [[[95, 79, 68, 31, 17, 9, 1, 0, 4, 54, 103, 13...  \n",
      "2       6489082920173568  [[[121, 107, 45, 17, 1, 0, 4, 21, 58, 118, 173...  \n",
      "3       4587619411296256  [[[104, 80, 54, 28, 11, 0, 1, 8, 20, 51, 90, 1...  \n",
      "4       5198601426829312  [[[85, 76, 61, 45, 34, 10, 4, 0, 4, 30, 58, 87...  \n",
      "...                  ...                                                ...  \n",
      "713470  6296408959221760  [[[10, 6, 1, 1, 43, 55, 64, 86, 113, 157, 173,...  \n",
      "713471  4783636635189248  [[[2, 5, 10, 24, 40, 55, 104, 129, 166, 211, 2...  \n",
      "713472  4800063815548928  [[[92, 44, 28, 13, 2, 0, 7, 16, 36, 62, 127, 1...  \n",
      "713473  5362428038610944  [[[60, 90, 123, 183], [5, 50, 109, 187]], [[48...  \n",
      "713474  5878535619084288  [[[241, 244, 235, 216, 157, 126, 77, 50, 14, 1...  \n",
      "\n",
      "[713475 rows x 6 columns]\n"
     ]
    }
   ],
   "source": [
    "# Train and testing model\n",
    "\n",
    "import pandas as pd\n",
    "\n",
    "def load_ndjson_to_df(file_names):\n",
    "    \"\"\"\n",
    "    Load one or more ndjson files into a pandas DataFrame.\n",
    "\n",
    "    Args:\n",
    "        file_names (list or str): A list of ndjson file names or a single file name.\n",
    "\n",
    "    Returns:\n",
    "        pandas.DataFrame: A DataFrame containing the data from the ndjson file(s).\n",
    "    \"\"\"\n",
    "    try:\n",
    "        # Create an empty DataFrame to store the combined data\n",
    "        combined_df = pd.DataFrame()\n",
    "\n",
    "        # Check if file_names is a list or a single string\n",
    "        if isinstance(file_names, list):\n",
    "            files = file_names\n",
    "        else:\n",
    "            files = [file_names]\n",
    "\n",
    "        # Iterate over the list of file names\n",
    "        for file_name in files:\n",
    "            # Read the ndjson file into a DataFrame\n",
    "            df = pd.read_json(file_name, lines=True, orient='records')\n",
    "\n",
    "            # Concatenate the DataFrame with the combined DataFrame\n",
    "            combined_df = pd.concat([combined_df, df], ignore_index=True)\n",
    "\n",
    "        return combined_df\n",
    "\n",
    "    except FileNotFoundError as e:\n",
    "        print(f\"File '{e.filename}' not found.\")\n",
    "    except Exception as e:\n",
    "        print(f\"An error occurred: {e}\")\n",
    "\n",
    "\n",
    "data_files = [\"./data/full_simplified_apple.ndjson\",\n",
    "                \"./data/full_simplified_banana.ndjson\",\n",
    "                \"./data/full_simplified_blueberry.ndjson\",\n",
    "                \"./data/full_simplified_watermelon.ndjson\",]\n",
    "print(\"Loading data...\")\n",
    "df = load_ndjson_to_df(data_files)\n",
    "print(df);"
   ]
  },
  {
   "cell_type": "markdown",
   "id": "81be2181-c119-4282-bd1c-63a39daad632",
   "metadata": {},
   "source": [
    "# EDA"
   ]
  },
  {
   "cell_type": "code",
   "execution_count": 4,
   "id": "736bdd20-8e5a-4c42-923a-5dbbb277c1e7",
   "metadata": {},
   "outputs": [
    {
     "name": "stdout",
     "output_type": "stream",
     "text": [
      "        recognized                                            drawing  \\\n",
      "0            False  [[[255, 255], [0, 0]], [[255, 255], [0, 0]], [...   \n",
      "1             True  [[[95, 79, 68, 31, 17, 9, 1, 0, 4, 54, 103, 13...   \n",
      "2             True  [[[121, 107, 45, 17, 1, 0, 4, 21, 58, 118, 173...   \n",
      "3             True  [[[104, 80, 54, 28, 11, 0, 1, 8, 20, 51, 90, 1...   \n",
      "4             True  [[[85, 76, 61, 45, 34, 10, 4, 0, 4, 30, 58, 87...   \n",
      "...            ...                                                ...   \n",
      "713470        True  [[[10, 6, 1, 1, 43, 55, 64, 86, 113, 157, 173,...   \n",
      "713471        True  [[[2, 5, 10, 24, 40, 55, 104, 129, 166, 211, 2...   \n",
      "713472        True  [[[92, 44, 28, 13, 2, 0, 7, 16, 36, 62, 127, 1...   \n",
      "713473        True  [[[60, 90, 123, 183], [5, 50, 109, 187]], [[48...   \n",
      "713474        True  [[[241, 244, 235, 216, 157, 126, 77, 50, 14, 1...   \n",
      "\n",
      "        fruit_apple  fruit_banana  fruit_blueberry  fruit_watermelon  \n",
      "0              True         False            False             False  \n",
      "1              True         False            False             False  \n",
      "2              True         False            False             False  \n",
      "3              True         False            False             False  \n",
      "4              True         False            False             False  \n",
      "...             ...           ...              ...               ...  \n",
      "713470        False         False            False              True  \n",
      "713471        False         False            False              True  \n",
      "713472        False         False            False              True  \n",
      "713473        False         False            False              True  \n",
      "713474        False         False            False              True  \n",
      "\n",
      "[713475 rows x 6 columns]\n"
     ]
    }
   ],
   "source": [
    "def clean_ndjson_data(df):\n",
    "    \"\"\"\n",
    "    Clean up the ndjson data by removing the \"countrycode\", \"timestamp\", and \"key_id\" columns.\n",
    "    \n",
    "    Args:\n",
    "        df (pandas.DataFrame): The DataFrame containing the ndjson data.\n",
    "        \n",
    "    Returns:\n",
    "        pandas.DataFrame: A new DataFrame with the specified columns removed.\n",
    "    \"\"\"\n",
    "    # Drop the specified columns\n",
    "    cleaned_df = df.drop(columns=[\"countrycode\", \"timestamp\", \"key_id\"])\n",
    "    \n",
    "    return cleaned_df\n",
    "\n",
    "df = clean_ndjson_data(df)\n",
    "# One-hot encode \"word\"\n",
    "df = pd.get_dummies(df, columns=[\"word\"], prefix=[\"fruit\"])\n",
    "print(df);"
   ]
  },
  {
   "cell_type": "code",
   "execution_count": 11,
   "id": "240d3172-76de-480a-87b2-843ae64185de",
   "metadata": {},
   "outputs": [
    {
     "name": "stdout",
     "output_type": "stream",
     "text": [
      "[[[95, 79, 68, 31, 17, 9, 1, 0, 4, 54, 103, 130, 168, 190, 204, 219, 228, 222, 210, 200, 194, 197, 203, 192, 189, 190, 209, 207, 197, 179, 107, 100], [62, 50, 49, 74, 91, 113, 163, 220, 226, 249, 255, 255, 244, 231, 215, 187, 152, 151, 160, 160, 156, 140, 137, 134, 115, 109, 88, 82, 71, 63, 62, 65]], [[100, 100, 104, 110, 115, 115, 108, 107], [58, 17, 1, 0, 12, 22, 44, 64]]]\n"
     ]
    }
   ],
   "source": [
    "import pprint as pp\n",
    "pp.print(df.iloc[1].drawing)"
   ]
  },
  {
   "cell_type": "code",
   "execution_count": null,
   "id": "2f241443-a5ef-468a-8fd8-869c6bca1174",
   "metadata": {},
   "outputs": [],
   "source": []
  }
 ],
 "metadata": {
  "kernelspec": {
   "display_name": ".venv",
   "language": "python",
   "name": ".venv"
  },
  "language_info": {
   "codemirror_mode": {
    "name": "ipython",
    "version": 3
   },
   "file_extension": ".py",
   "mimetype": "text/x-python",
   "name": "python",
   "nbconvert_exporter": "python",
   "pygments_lexer": "ipython3",
   "version": "3.12.3"
  }
 },
 "nbformat": 4,
 "nbformat_minor": 5
}
